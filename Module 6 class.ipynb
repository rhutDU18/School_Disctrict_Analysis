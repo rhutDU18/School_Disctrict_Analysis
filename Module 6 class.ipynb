{
 "cells": [
  {
   "cell_type": "code",
   "execution_count": 2,
   "id": "529742aa",
   "metadata": {},
   "outputs": [],
   "source": [
    "import requests\n",
    "import json\n",
    "from print import print\n"
   ]
  },
  {
   "cell_type": "code",
   "execution_count": 4,
   "id": "9198c273",
   "metadata": {},
   "outputs": [],
   "source": [
    "# print url for GEt requests to retreive vehicle data\n",
    "url = \"https://api.spacexdata.com/v2/launchpads\""
   ]
  },
  {
   "cell_type": "raw",
   "id": "002959cd",
   "metadata": {},
   "source": [
    "    # print the url \n",
    "    requests.get(url)"
   ]
  },
  {
   "cell_type": "code",
   "execution_count": null,
   "id": "bcd35db7",
   "metadata": {},
   "outputs": [],
   "source": [
    "    # print the url \n",
    "    requests.get(url)"
   ]
  }
 ],
 "metadata": {
  "kernelspec": {
   "display_name": "PythonData",
   "language": "python",
   "name": "pythondata"
  },
  "language_info": {
   "codemirror_mode": {
    "name": "ipython",
    "version": 3
   },
   "file_extension": ".py",
   "mimetype": "text/x-python",
   "name": "python",
   "nbconvert_exporter": "python",
   "pygments_lexer": "ipython3",
   "version": "3.7.11"
  }
 },
 "nbformat": 4,
 "nbformat_minor": 5
}
